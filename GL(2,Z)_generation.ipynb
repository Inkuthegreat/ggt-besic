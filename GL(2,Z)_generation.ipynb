{
  "cells": [
    {
      "cell_type": "markdown",
      "metadata": {
        "id": "view-in-github",
        "colab_type": "text"
      },
      "source": [
        "<a href=\"https://colab.research.google.com/github/Inkuthegreat/ggt-besic/blob/main/GL(2%2CZ)_generation.ipynb\" target=\"_parent\"><img src=\"https://colab.research.google.com/assets/colab-badge.svg\" alt=\"Open In Colab\"/></a>"
      ]
    },
    {
      "cell_type": "code",
      "execution_count": null,
      "metadata": {
        "colab": {
          "base_uri": "https://localhost:8080/"
        },
        "id": "wEZwF8kCWf1w",
        "outputId": "257b5589-a7f3-4c4b-c41d-e5347d4f3c26"
      },
      "outputs": [
        {
          "name": "stdout",
          "output_type": "stream",
          "text": [
            "Requirement already satisfied: sympy in /usr/local/lib/python3.11/dist-packages (1.13.1)\n",
            "Requirement already satisfied: mpmath<1.4,>=1.1.0 in /usr/local/lib/python3.11/dist-packages (from sympy) (1.3.0)\n"
          ]
        }
      ],
      "source": [
        "pip install sympy"
      ]
    },
    {
      "cell_type": "code",
      "execution_count": 18,
      "metadata": {
        "id": "oaOQLQS3Wii4"
      },
      "outputs": [],
      "source": [
        "from sympy import *\n",
        "A=Matrix(\n",
        "    [[0,1],\n",
        "     [1,0]]\n",
        ")\n",
        "B=Matrix(\n",
        "    [[1,1],\n",
        "     [0,1]]\n",
        ")\n",
        "#C=A*B*A*B.inv()*A*B*A*(B**10)\n",
        "#C=A*B**(5-1)*A*B*A*B.inv()*A\n",
        "#print(C)\n",
        "\n",
        "D=Matrix(\n",
        "    [[2,11],\n",
        "     [1,5]]\n",
        ")\n",
        "\n",
        "#E=D*B**(-5)*A*B**(-2)\n",
        "#print(E)"
      ]
    }
  ],
  "metadata": {
    "colab": {
      "provenance": [],
      "authorship_tag": "ABX9TyNpS7votQGCd/PU8FARdVcP",
      "include_colab_link": true
    },
    "kernelspec": {
      "display_name": "Python 3",
      "name": "python3"
    },
    "language_info": {
      "name": "python"
    }
  },
  "nbformat": 4,
  "nbformat_minor": 0
}